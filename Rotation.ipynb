{
 "cells": [
  {
   "cell_type": "code",
   "execution_count": 7,
   "metadata": {},
   "outputs": [],
   "source": [
    "import cv2\n",
    "import numpy as np\n",
    "image=cv2.imread(\"BSMRSTU.jpg\")\n",
    "cv2.imshow('Orginal',image)\n",
    "cv2.waitKey(0)\n",
    "h,w=image.shape[:2]\n",
    "r_m=cv2.getRotationMatrix2D((w/2,h/2),120,0.5)\n",
    "r_i=cv2.warpAffine(image,r_m,(w,h))\n",
    "cv2.imshow('Rotated Image',r_i)\n",
    "cv2.waitKey()\n",
    "cv2.destroyAllWindows()"
   ]
  },
  {
   "cell_type": "code",
   "execution_count": 8,
   "metadata": {},
   "outputs": [],
   "source": [
    "import cv2\n",
    "import numpy as np\n",
    "image=cv2.imread(\"BSMRSTU.jpg\")\n",
    "r_i=cv2.transpose(image)\n",
    "cv2.imshow('Rotated Image-Transpose Method',r_i)\n",
    "cv2.waitKey()\n",
    "cv2.destroyAllWindows()"
   ]
  },
  {
   "cell_type": "code",
   "execution_count": null,
   "metadata": {},
   "outputs": [],
   "source": []
  }
 ],
 "metadata": {
  "kernelspec": {
   "display_name": "Python 2",
   "language": "python",
   "name": "python2"
  },
  "language_info": {
   "codemirror_mode": {
    "name": "ipython",
    "version": 2
   },
   "file_extension": ".py",
   "mimetype": "text/x-python",
   "name": "python",
   "nbconvert_exporter": "python",
   "pygments_lexer": "ipython2",
   "version": "2.7.15"
  }
 },
 "nbformat": 4,
 "nbformat_minor": 2
}
