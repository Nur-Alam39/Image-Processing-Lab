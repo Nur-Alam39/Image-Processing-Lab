{
 "cells": [
  {
   "cell_type": "code",
   "execution_count": 2,
   "metadata": {},
   "outputs": [],
   "source": [
    "import cv2\n",
    "import numpy as np\n",
    "\n",
    "image=cv2.imread('bsmrstu.jpg')\n",
    "cv2.imshow(\"Original Image\",image)\n",
    "\n",
    "kernel_3x3=np.ones((3,3),np.float32)/9\n",
    "\n",
    "blurred=cv2.filter2D(image,-1,kernel_3x3)\n",
    "cv2.imshow(\"3X3 Kernel Blurring\",blurred)\n",
    "\n",
    "kernel_7x7=np.ones((7,7),np.float32)/49\n",
    "\n",
    "blurred=cv2.filter2D(image,-1,kernel_7x7)\n",
    "cv2.imshow(\"7X7 Kernel Blurring\",blurred)\n",
    "cv2.waitKey(0)\n",
    "\n",
    "cv2.destroyAllWindows()"
   ]
  },
  {
   "cell_type": "code",
   "execution_count": 4,
   "metadata": {},
   "outputs": [],
   "source": [
    "import cv2\n",
    "import numpy as np\n",
    "\n",
    "image=cv2.imread('bsmrstu.jpg')\n",
    "blur=cv2.blur(image,(3,3))\n",
    "cv2.imshow('Averaging',blur)\n",
    "cv2.waitKey(0)\n",
    "\n",
    "\n",
    "gaussian=cv2.GaussianBlur(image,(7,7),1)\n",
    "cv2.imshow('Gaussian Blurring',gaussian)\n",
    "cv2.waitKey(0)\n",
    "\n",
    "median=cv2.medianBlur(image,5)\n",
    "cv2.imshow('Median Blurring',median)\n",
    "cv2.waitKey(0)\n",
    "\n",
    "bilateral=cv2.bilateralFilter(image,9,75,75)\n",
    "cv2.imshow('Bilateral Blurring',bilateral)\n",
    "cv2.waitKey(0)\n",
    "\n",
    "\n",
    "cv2.destroyAllWindows()"
   ]
  },
  {
   "cell_type": "code",
   "execution_count": null,
   "metadata": {},
   "outputs": [],
   "source": []
  }
 ],
 "metadata": {
  "kernelspec": {
   "display_name": "Python 2",
   "language": "python",
   "name": "python2"
  },
  "language_info": {
   "codemirror_mode": {
    "name": "ipython",
    "version": 2
   },
   "file_extension": ".py",
   "mimetype": "text/x-python",
   "name": "python",
   "nbconvert_exporter": "python",
   "pygments_lexer": "ipython2",
   "version": "2.7.15"
  }
 },
 "nbformat": 4,
 "nbformat_minor": 2
}
