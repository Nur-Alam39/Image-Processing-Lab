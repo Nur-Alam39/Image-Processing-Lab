{
 "cells": [
  {
   "cell_type": "code",
   "execution_count": 1,
   "metadata": {},
   "outputs": [],
   "source": [
    "import cv2\n",
    "import numpy as np\n",
    "image=cv2.imread(\"different_shapes.png\")\n",
    "cv2.imshow('0-Original Image',image)\n",
    "cv2.waitKey(0)\n",
    "\n",
    "blank_image=np.zeros((image.shape[0],image.shape[1],3))\n",
    "\n",
    "original_image=image\n",
    "\n",
    "#grayscale\n",
    "gray=cv2.cvtColor(image,cv2.COLOR_BGR2GRAY)\n",
    "\n",
    "#Find canny edges\n",
    "edged=cv2.Canny(gray, 50, 200)\n",
    "cv2.imshow('1-Canny Edges',edged)\n",
    "cv2.waitKey(0)\n",
    "\n",
    "#Find contours \n",
    "contours,hierarchy=cv2.findContours(edged,cv2.RETR_LIST, cv2.CHAIN_APPROX_NONE)\n",
    "cv2.waitKey(0)\n",
    "\n",
    "cv2.drawContours(blank_image, contours, -1, (0,255,0), 3)\n",
    "cv2.imshow('2-All Contours over blank image',blank_image)\n",
    "cv2.waitKey(0)\n",
    "\n",
    "cv2.drawContours(image, contours, -1, (0,255,0), 3)\n",
    "cv2.imshow('3-All Contours',image)\n",
    "cv2.waitKey(0)\n",
    "\n",
    "cv2.waitKey()\n",
    "cv2.destroyAllWindows()"
   ]
  },
  {
   "cell_type": "code",
   "execution_count": 2,
   "metadata": {},
   "outputs": [
    {
     "name": "stdout",
     "output_type": "stream",
     "text": [
      "Contours before sorting [10996.5, 10997.0, 18592.5, 18682.5, 36205.0, 36305.5, 59536.5, 59537.0]\n",
      "Contours after sorting [59537.0, 59536.5, 36305.5, 36205.0, 18682.5, 18592.5, 10997.0, 10996.5]\n"
     ]
    }
   ],
   "source": [
    "import cv2\n",
    "import numpy as np\n",
    "\n",
    "def get_contour_areas(contours):\n",
    "    all_areas=[]\n",
    "    for cnt in contours:\n",
    "        area=cv2.contourArea(cnt)\n",
    "        all_areas.append(area)\n",
    "    return all_areas\n",
    "\n",
    "image=cv2.imread('different_shapes.png')\n",
    "original_image=image\n",
    "\n",
    "print\"Contours before sorting\",\n",
    "print get_contour_areas(contours)\n",
    "\n",
    "sorted_contours=sorted(contours, key=cv2.contourArea, reverse= True)\n",
    "\n",
    "print\"Contours after sorting\",\n",
    "print get_contour_areas(sorted_contours)\n",
    "\n",
    "for c in sorted_contours:\n",
    "    cv2.drawContours(original_image, [c], -1, (255,0,0), 3)\n",
    "    cv2.waitKey(0)\n",
    "    cv2.imshow('Contours by area',original_image)\n",
    "\n",
    "cv2.waitKey(0)\n",
    "cv2.destroyAllWindows()    \n",
    "    "
   ]
  },
  {
   "cell_type": "code",
   "execution_count": null,
   "metadata": {},
   "outputs": [],
   "source": []
  },
  {
   "cell_type": "code",
   "execution_count": null,
   "metadata": {},
   "outputs": [],
   "source": []
  }
 ],
 "metadata": {
  "kernelspec": {
   "display_name": "Python 2",
   "language": "python",
   "name": "python2"
  },
  "language_info": {
   "codemirror_mode": {
    "name": "ipython",
    "version": 2
   },
   "file_extension": ".py",
   "mimetype": "text/x-python",
   "name": "python",
   "nbconvert_exporter": "python",
   "pygments_lexer": "ipython2",
   "version": "2.7.15"
  }
 },
 "nbformat": 4,
 "nbformat_minor": 2
}
