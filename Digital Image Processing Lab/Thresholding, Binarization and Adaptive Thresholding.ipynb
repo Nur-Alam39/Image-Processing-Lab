{
 "cells": [
  {
   "cell_type": "code",
   "execution_count": 7,
   "metadata": {},
   "outputs": [],
   "source": [
    "import cv2\n",
    "import numpy as np\n",
    "\n",
    "image = cv2.imread('gradient.png');\n",
    "cv2.imshow('Original',image)\n",
    "\n",
    "ret,thresh1=cv2.threshold(image,27,255,cv2.THRESH_BINARY)\n",
    "cv2.imshow('1 Threshold Binary',thresh1)\n",
    " \n",
    "ret,thresh2=cv2.threshold(image,127,255,cv2.THRESH_BINARY_INV)\n",
    "cv2.imshow('2 Threshold Binary Inverse',thresh2)\n",
    "\n",
    "ret,thresh3=cv2.threshold(image,127,255,cv2.THRESH_TRUNC)\n",
    "cv2.imshow('3 Threshold Thruncatanation',thresh3)\n",
    "\n",
    "ret,thresh4=cv2.threshold(image,127,255,cv2.THRESH_TOZERO)\n",
    "cv2.imshow('4 Threshold TOZERO',thresh4)\n",
    "\n",
    "ret,thresh5=cv2.threshold(image,127,255,cv2.THRESH_TOZERO_INV)\n",
    "cv2.imshow('5 Threshold TOZERO',thresh5)\n",
    "\n",
    "cv2.waitKey(0)\n",
    "cv2.destroyAllWindows()"
   ]
  },
  {
   "cell_type": "code",
   "execution_count": null,
   "metadata": {},
   "outputs": [],
   "source": [
    "Better Way\n",
    "Adaptive Thresholding"
   ]
  },
  {
   "cell_type": "code",
   "execution_count": 20,
   "metadata": {},
   "outputs": [
    {
     "ename": "AttributeError",
     "evalue": "'module' object has no attribute 'THRESH_OSTU'",
     "output_type": "error",
     "traceback": [
      "\u001b[1;31m\u001b[0m",
      "\u001b[1;31mAttributeError\u001b[0mTraceback (most recent call last)",
      "\u001b[1;32m<ipython-input-20-beb9e9933e1f>\u001b[0m in \u001b[0;36m<module>\u001b[1;34m()\u001b[0m\n\u001b[0;32m     20\u001b[0m \u001b[0mcv2\u001b[0m\u001b[1;33m.\u001b[0m\u001b[0mwaitKey\u001b[0m\u001b[1;33m(\u001b[0m\u001b[1;36m0\u001b[0m\u001b[1;33m)\u001b[0m\u001b[1;33m\u001b[0m\u001b[0m\n\u001b[0;32m     21\u001b[0m \u001b[1;33m\u001b[0m\u001b[0m\n\u001b[1;32m---> 22\u001b[1;33m \u001b[0m_\u001b[0m\u001b[1;33m,\u001b[0m \u001b[0mth2\u001b[0m\u001b[1;33m=\u001b[0m\u001b[0mcv2\u001b[0m\u001b[1;33m.\u001b[0m\u001b[0mthreshold\u001b[0m\u001b[1;33m(\u001b[0m\u001b[0mimage\u001b[0m\u001b[1;33m,\u001b[0m\u001b[1;36m0\u001b[0m\u001b[1;33m,\u001b[0m\u001b[1;36m255\u001b[0m\u001b[1;33m,\u001b[0m\u001b[0mcv2\u001b[0m\u001b[1;33m.\u001b[0m\u001b[0mTHRESH_BINARY\u001b[0m \u001b[1;33m+\u001b[0m \u001b[0mcv2\u001b[0m\u001b[1;33m.\u001b[0m\u001b[0mTHRESH_OSTU\u001b[0m\u001b[1;33m)\u001b[0m\u001b[1;33m\u001b[0m\u001b[0m\n\u001b[0m\u001b[0;32m     23\u001b[0m \u001b[0mcv2\u001b[0m\u001b[1;33m.\u001b[0m\u001b[0mimshow\u001b[0m\u001b[1;33m(\u001b[0m\u001b[1;34m\"Ostu's Threshold Binary\"\u001b[0m\u001b[1;33m,\u001b[0m\u001b[0mthresh\u001b[0m\u001b[1;33m)\u001b[0m\u001b[1;33m\u001b[0m\u001b[0m\n\u001b[0;32m     24\u001b[0m \u001b[0mcv2\u001b[0m\u001b[1;33m.\u001b[0m\u001b[0mwaitKey\u001b[0m\u001b[1;33m(\u001b[0m\u001b[1;36m0\u001b[0m\u001b[1;33m)\u001b[0m\u001b[1;33m\u001b[0m\u001b[0m\n",
      "\u001b[1;31mAttributeError\u001b[0m: 'module' object has no attribute 'THRESH_OSTU'"
     ]
    }
   ],
   "source": [
    "import cv2\n",
    "import numpy as np\n",
    "\n",
    "image = cv2.imread('origin_of_species.jpg');\n",
    "cv2.imshow('Original',image)\n",
    "cv2.waitKey(0)\n",
    "\n",
    "image = cv2.cvtColor(image, cv2.COLOR_BGR2GRAY)\n",
    "cv2.imshow('Gray',image)\n",
    "cv2.waitKey(0)\n",
    "\n",
    "ret,thresh1=cv2.threshold(image,127,255,cv2.THRESH_BINARY)\n",
    "cv2.imshow('Threshold Binary',thresh1)\n",
    "cv2.waitKey(0)\n",
    "\n",
    "image=cv2.GaussianBlur(image,(3,3),0)\n",
    "\n",
    "thresh=cv2.adaptiveThreshold(image,255,cv2.ADAPTIVE_THRESH_MEAN_C, cv2.THRESH_BINARY, 3, 5)\n",
    "cv2.imshow('Adaptive Mean Thresholding',thresh)\n",
    "cv2.waitKey(0)\n",
    "\n",
    "_, th2=cv2.threshold(image,0,255,cv2.THRESH_BINARY + cv2.THRESH_OSTU)\n",
    "cv2.imshow(\"Ostu's Threshold Binary\",thresh)\n",
    "cv2.waitKey(0)\n",
    "\n",
    "cv2.waitKey(0)\n",
    "cv2.destroyAllWindows()"
   ]
  },
  {
   "cell_type": "code",
   "execution_count": null,
   "metadata": {},
   "outputs": [],
   "source": []
  },
  {
   "cell_type": "code",
   "execution_count": null,
   "metadata": {},
   "outputs": [],
   "source": []
  }
 ],
 "metadata": {
  "kernelspec": {
   "display_name": "Python 2",
   "language": "python",
   "name": "python2"
  },
  "language_info": {
   "codemirror_mode": {
    "name": "ipython",
    "version": 2
   },
   "file_extension": ".py",
   "mimetype": "text/x-python",
   "name": "python",
   "nbconvert_exporter": "python",
   "pygments_lexer": "ipython2",
   "version": "2.7.15"
  }
 },
 "nbformat": 4,
 "nbformat_minor": 2
}
