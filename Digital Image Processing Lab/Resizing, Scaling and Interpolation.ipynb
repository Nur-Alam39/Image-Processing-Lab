{
 "cells": [
  {
   "cell_type": "code",
   "execution_count": 1,
   "metadata": {},
   "outputs": [],
   "source": [
    "import cv2\n",
    "import numpy as np\n",
    "image=cv2.imread(\"BSMRSTU.jpg\")\n",
    "i_s1=cv2.resize(image,None,fx=2,fy=0.5)\n",
    "cv2.imshow('1.Scaling- Linear Interpolation',i_s1)\n",
    "\n",
    "i_s2=cv2.resize(image,None,fx=2,fy=2,interpolation=cv2.INTER_CUBIC)\n",
    "cv2.imshow('2.Scaling- Cubic Interpolation',i_s2)\n",
    "\n",
    "i_s3=cv2.resize(image,(100,100),interpolation=cv2.INTER_AREA)\n",
    "cv2.imshow('3.Scaling- Skewed Interpolation',i_s3)\n",
    "cv2.waitKey()\n",
    "\n",
    "cv2.destroyAllWindows()"
   ]
  },
  {
   "cell_type": "code",
   "execution_count": null,
   "metadata": {},
   "outputs": [],
   "source": []
  }
 ],
 "metadata": {
  "kernelspec": {
   "display_name": "Python 3",
   "language": "python",
   "name": "python3"
  },
  "language_info": {
   "codemirror_mode": {
    "name": "ipython",
    "version": 3
   },
   "file_extension": ".py",
   "mimetype": "text/x-python",
   "name": "python",
   "nbconvert_exporter": "python",
   "pygments_lexer": "ipython3",
   "version": "3.6.5"
  }
 },
 "nbformat": 4,
 "nbformat_minor": 2
}
