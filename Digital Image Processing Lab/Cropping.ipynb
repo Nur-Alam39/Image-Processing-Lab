{
 "cells": [
  {
   "cell_type": "code",
   "execution_count": 1,
   "metadata": {},
   "outputs": [],
   "source": [
    "import cv2\n",
    "import numpy as np\n",
    "\n",
    "image=cv2.imread(\"BSMRSTU.jpg\")\n",
    "h,w=image.shape[:2]\n",
    "\n",
    "x1,y1=int(h*.25),int(w*.25)\n",
    "x2,y2=int(h*.75),int(w*.75)\n",
    "\n",
    "croped_image=image[x1:x2,y1:y2]\n",
    "\n",
    "cv2.imshow('Orginal',image)\n",
    "cv2.imshow('Croped Image',croped_image)\n",
    "\n",
    "cv2.waitKey()\n",
    "cv2.destroyAllWindows()"
   ]
  },
  {
   "cell_type": "code",
   "execution_count": null,
   "metadata": {},
   "outputs": [],
   "source": []
  }
 ],
 "metadata": {
  "kernelspec": {
   "display_name": "Python 3",
   "language": "python",
   "name": "python3"
  },
  "language_info": {
   "codemirror_mode": {
    "name": "ipython",
    "version": 3
   },
   "file_extension": ".py",
   "mimetype": "text/x-python",
   "name": "python",
   "nbconvert_exporter": "python",
   "pygments_lexer": "ipython3",
   "version": "3.6.5"
  }
 },
 "nbformat": 4,
 "nbformat_minor": 2
}
