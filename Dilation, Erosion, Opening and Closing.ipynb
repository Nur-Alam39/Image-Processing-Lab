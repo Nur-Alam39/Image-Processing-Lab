{
 "cells": [
  {
   "cell_type": "code",
   "execution_count": 11,
   "metadata": {},
   "outputs": [],
   "source": [
    "import cv2\n",
    "import numpy as np\n",
    "\n",
    "image = cv2.imread('nuralam_text.png');\n",
    "cv2.imshow('Original',image)\n",
    "\n",
    "kernel=np.ones((5,5),np.uint8)\n",
    "\n",
    "erosion=cv2.erode(image,kernel,iterations=1)\n",
    "cv2.imshow('Erosion',erosion)\n",
    "\n",
    "dilation=cv2.dilate(image,kernel,iterations=1)\n",
    "cv2.imshow('Dilation',dilation)\n",
    "\n",
    "opening=cv2.morphologyEx(image,cv2.MORPH_OPEN,kernel)\n",
    "cv2.imshow('Opening',opening)\n",
    "\n",
    "closing=cv2.morphologyEx(image,cv2.MORPH_CLOSE,kernel)\n",
    "cv2.imshow('Closing',closing)\n",
    "\n",
    "cv2.waitKey(0)\n",
    "cv2.destroyAllWindows()"
   ]
  },
  {
   "cell_type": "code",
   "execution_count": null,
   "metadata": {},
   "outputs": [],
   "source": []
  },
  {
   "cell_type": "code",
   "execution_count": null,
   "metadata": {},
   "outputs": [],
   "source": []
  }
 ],
 "metadata": {
  "kernelspec": {
   "display_name": "Python 2",
   "language": "python",
   "name": "python2"
  },
  "language_info": {
   "codemirror_mode": {
    "name": "ipython",
    "version": 2
   },
   "file_extension": ".py",
   "mimetype": "text/x-python",
   "name": "python",
   "nbconvert_exporter": "python",
   "pygments_lexer": "ipython2",
   "version": "2.7.15"
  }
 },
 "nbformat": 4,
 "nbformat_minor": 2
}
